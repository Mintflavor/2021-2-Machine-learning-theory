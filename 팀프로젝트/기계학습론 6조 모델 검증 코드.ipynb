{
 "cells": [
  {
   "cell_type": "markdown",
   "metadata": {},
   "source": [
    "# Module's version"
   ]
  },
  {
   "cell_type": "markdown",
   "metadata": {},
   "source": [
    "- python==3.8.2\n",
    "- pandas==1.1.3\n",
    "- numpy==1.18.5\n",
    "- feature_engine==1.1.2\n",
    "- scikit-learn==0.23.2\n",
    "- keras==2.4.0\n",
    "- tensorflow==2.3.0\n",
    "- tqdm==4.50.2"
   ]
  },
  {
   "cell_type": "code",
   "execution_count": 1,
   "metadata": {},
   "outputs": [
    {
     "name": "stderr",
     "output_type": "stream",
     "text": [
      "Python\n"
     ]
    },
    {
     "name": "stdout",
     "output_type": "stream",
     "text": [
      "cores: 12\n",
      "pandas: 1.1.3\n",
      "numpy: 1.19.5\n",
      "feature_engine: 1.1.2\n",
      "sklearn: 0.23.2\n",
      "keras: 2.4.0\n",
      "tensorflow: 2.4.1\n",
      "tqdm: 4.50.2\n"
     ]
    },
    {
     "name": "stderr",
     "output_type": "stream",
     "text": [
      "Using TensorFlow backend.\n"
     ]
    }
   ],
   "source": [
    "!python3 -V\n",
    "import os\n",
    "import pandas\n",
    "import numpy\n",
    "import feature_engine\n",
    "import sklearn\n",
    "import keras\n",
    "import tensorflow\n",
    "import tqdm\n",
    "\n",
    "print(\"cores:\", os.cpu_count())\n",
    "print(\"pandas:\", pandas.__version__)\n",
    "print(\"numpy:\", numpy.__version__)\n",
    "print(\"feature_engine:\", feature_engine.__version__)\n",
    "print(\"sklearn:\", sklearn.__version__)\n",
    "print(\"keras:\", keras.__version__)\n",
    "print(\"tensorflow:\", tensorflow.__version__)\n",
    "print(\"tqdm:\", tqdm.__version__)"
   ]
  },
  {
   "cell_type": "code",
   "execution_count": 54,
   "metadata": {},
   "outputs": [],
   "source": [
    "# !pip install pandas==1.1.3 numpy==1.18.5 feature_engine==1.1.2 scikit-learn==0.23.2 keras==2.4.0 tensorflow==2.3.0 tqdm==4.50.2"
   ]
  },
  {
   "cell_type": "markdown",
   "metadata": {},
   "source": [
    "# 요약"
   ]
  },
  {
   "cell_type": "markdown",
   "metadata": {},
   "source": [
    "## 전처리 조합"
   ]
  },
  {
   "cell_type": "markdown",
   "metadata": {},
   "source": [
    "- np.random.seed(0)\n",
    "- train_test_split random_state = 777\n",
    "- 중복 레코드 제거\n",
    "- 단일 클래스 피처 제거\n",
    "- Outlier IQR 기준 3 삭제\n",
    "- Feature 간 상관계수 0.7 이상 삭제\n",
    "- MaxAbsScaler 적용\n",
    "- Class_weight 적용\n",
    "- Keras Logistic Regression\n",
    "- L2 Regularization lambda = 0.0001\n",
    "- Early stopping monitor = val_loss, patience = 10, min_delta = 0.01\n",
    "- Stratified K-Fold K = 5\n",
    "- tf.random.set_seed() 함수를 통해 random_state 조정, 10~100 까지 10 단위 10 개의 모델을 만들어 ROC-AUC-Score 평균을 냄"
   ]
  },
  {
   "cell_type": "markdown",
   "metadata": {},
   "source": [
    "## 성능"
   ]
  },
  {
   "cell_type": "markdown",
   "metadata": {},
   "source": [
    "- ROC-AUC-Score : 0.93202427"
   ]
  },
  {
   "cell_type": "code",
   "execution_count": 2,
   "metadata": {},
   "outputs": [],
   "source": [
    "import pandas as pd\n",
    "import numpy as np\n",
    "from feature_engine.outliers import OutlierTrimmer\n",
    "from sklearn.preprocessing import MaxAbsScaler\n",
    "from sklearn.model_selection import train_test_split\n",
    "from sklearn.model_selection import StratifiedKFold\n",
    "from sklearn.metrics import roc_auc_score\n",
    "import keras.models as models\n",
    "import keras.layers as layers\n",
    "import keras.metrics as metrics\n",
    "import keras.regularizers as regularizers\n",
    "import tensorflow.keras.callbacks as callbacks\n",
    "import tensorflow as tf\n",
    "import matplotlib.pyplot as plt\n",
    "import seaborn as sns\n",
    "import warnings\n",
    "from tqdm import tqdm\n",
    "\n",
    "warnings.simplefilter('ignore', UserWarning)\n",
    "warnings.filterwarnings(action='ignore')\n",
    "np.random.seed(0)"
   ]
  },
  {
   "cell_type": "markdown",
   "metadata": {},
   "source": [
    "## 데이터 불러오기"
   ]
  },
  {
   "cell_type": "code",
   "execution_count": 4,
   "metadata": {
    "scrolled": false
   },
   "outputs": [
    {
     "data": {
      "text/html": [
       "<div>\n",
       "<style scoped>\n",
       "    .dataframe tbody tr th:only-of-type {\n",
       "        vertical-align: middle;\n",
       "    }\n",
       "\n",
       "    .dataframe tbody tr th {\n",
       "        vertical-align: top;\n",
       "    }\n",
       "\n",
       "    .dataframe thead th {\n",
       "        text-align: right;\n",
       "    }\n",
       "</style>\n",
       "<table border=\"1\" class=\"dataframe\">\n",
       "  <thead>\n",
       "    <tr style=\"text-align: right;\">\n",
       "      <th></th>\n",
       "      <th>feature_1</th>\n",
       "      <th>feature_2</th>\n",
       "      <th>feature_3</th>\n",
       "      <th>feature_4</th>\n",
       "      <th>feature_5</th>\n",
       "      <th>feature_6</th>\n",
       "      <th>feature_7</th>\n",
       "      <th>feature_8</th>\n",
       "      <th>feature_9</th>\n",
       "      <th>feature_10</th>\n",
       "      <th>...</th>\n",
       "      <th>feature_1550</th>\n",
       "      <th>feature_1551</th>\n",
       "      <th>feature_1552</th>\n",
       "      <th>feature_1553</th>\n",
       "      <th>feature_1554</th>\n",
       "      <th>feature_1555</th>\n",
       "      <th>feature_1556</th>\n",
       "      <th>feature_1557</th>\n",
       "      <th>feature_1558</th>\n",
       "      <th>Class</th>\n",
       "    </tr>\n",
       "  </thead>\n",
       "  <tbody>\n",
       "    <tr>\n",
       "      <th>0</th>\n",
       "      <td>100</td>\n",
       "      <td>160</td>\n",
       "      <td>1.6000</td>\n",
       "      <td>0</td>\n",
       "      <td>0</td>\n",
       "      <td>0</td>\n",
       "      <td>0</td>\n",
       "      <td>0</td>\n",
       "      <td>0</td>\n",
       "      <td>0</td>\n",
       "      <td>...</td>\n",
       "      <td>0</td>\n",
       "      <td>0</td>\n",
       "      <td>0</td>\n",
       "      <td>0</td>\n",
       "      <td>0</td>\n",
       "      <td>0</td>\n",
       "      <td>0</td>\n",
       "      <td>0</td>\n",
       "      <td>0</td>\n",
       "      <td>0</td>\n",
       "    </tr>\n",
       "    <tr>\n",
       "      <th>1</th>\n",
       "      <td>20</td>\n",
       "      <td>83</td>\n",
       "      <td>4.1500</td>\n",
       "      <td>1</td>\n",
       "      <td>0</td>\n",
       "      <td>0</td>\n",
       "      <td>0</td>\n",
       "      <td>0</td>\n",
       "      <td>0</td>\n",
       "      <td>1</td>\n",
       "      <td>...</td>\n",
       "      <td>0</td>\n",
       "      <td>0</td>\n",
       "      <td>0</td>\n",
       "      <td>0</td>\n",
       "      <td>0</td>\n",
       "      <td>1</td>\n",
       "      <td>0</td>\n",
       "      <td>0</td>\n",
       "      <td>0</td>\n",
       "      <td>0</td>\n",
       "    </tr>\n",
       "    <tr>\n",
       "      <th>2</th>\n",
       "      <td>99</td>\n",
       "      <td>150</td>\n",
       "      <td>1.5151</td>\n",
       "      <td>1</td>\n",
       "      <td>0</td>\n",
       "      <td>0</td>\n",
       "      <td>0</td>\n",
       "      <td>0</td>\n",
       "      <td>0</td>\n",
       "      <td>0</td>\n",
       "      <td>...</td>\n",
       "      <td>0</td>\n",
       "      <td>0</td>\n",
       "      <td>0</td>\n",
       "      <td>0</td>\n",
       "      <td>0</td>\n",
       "      <td>0</td>\n",
       "      <td>0</td>\n",
       "      <td>0</td>\n",
       "      <td>0</td>\n",
       "      <td>0</td>\n",
       "    </tr>\n",
       "    <tr>\n",
       "      <th>3</th>\n",
       "      <td>40</td>\n",
       "      <td>40</td>\n",
       "      <td>1.0000</td>\n",
       "      <td>0</td>\n",
       "      <td>0</td>\n",
       "      <td>0</td>\n",
       "      <td>0</td>\n",
       "      <td>0</td>\n",
       "      <td>0</td>\n",
       "      <td>0</td>\n",
       "      <td>...</td>\n",
       "      <td>0</td>\n",
       "      <td>0</td>\n",
       "      <td>0</td>\n",
       "      <td>0</td>\n",
       "      <td>0</td>\n",
       "      <td>0</td>\n",
       "      <td>0</td>\n",
       "      <td>0</td>\n",
       "      <td>0</td>\n",
       "      <td>0</td>\n",
       "    </tr>\n",
       "    <tr>\n",
       "      <th>4</th>\n",
       "      <td>12</td>\n",
       "      <td>234</td>\n",
       "      <td>19.5000</td>\n",
       "      <td>1</td>\n",
       "      <td>0</td>\n",
       "      <td>0</td>\n",
       "      <td>0</td>\n",
       "      <td>0</td>\n",
       "      <td>0</td>\n",
       "      <td>0</td>\n",
       "      <td>...</td>\n",
       "      <td>0</td>\n",
       "      <td>0</td>\n",
       "      <td>0</td>\n",
       "      <td>0</td>\n",
       "      <td>0</td>\n",
       "      <td>0</td>\n",
       "      <td>0</td>\n",
       "      <td>0</td>\n",
       "      <td>0</td>\n",
       "      <td>0</td>\n",
       "    </tr>\n",
       "    <tr>\n",
       "      <th>...</th>\n",
       "      <td>...</td>\n",
       "      <td>...</td>\n",
       "      <td>...</td>\n",
       "      <td>...</td>\n",
       "      <td>...</td>\n",
       "      <td>...</td>\n",
       "      <td>...</td>\n",
       "      <td>...</td>\n",
       "      <td>...</td>\n",
       "      <td>...</td>\n",
       "      <td>...</td>\n",
       "      <td>...</td>\n",
       "      <td>...</td>\n",
       "      <td>...</td>\n",
       "      <td>...</td>\n",
       "      <td>...</td>\n",
       "      <td>...</td>\n",
       "      <td>...</td>\n",
       "      <td>...</td>\n",
       "      <td>...</td>\n",
       "      <td>...</td>\n",
       "    </tr>\n",
       "    <tr>\n",
       "      <th>1758</th>\n",
       "      <td>1</td>\n",
       "      <td>1</td>\n",
       "      <td>2.0000</td>\n",
       "      <td>1</td>\n",
       "      <td>0</td>\n",
       "      <td>0</td>\n",
       "      <td>0</td>\n",
       "      <td>0</td>\n",
       "      <td>0</td>\n",
       "      <td>0</td>\n",
       "      <td>...</td>\n",
       "      <td>0</td>\n",
       "      <td>0</td>\n",
       "      <td>0</td>\n",
       "      <td>0</td>\n",
       "      <td>0</td>\n",
       "      <td>0</td>\n",
       "      <td>0</td>\n",
       "      <td>0</td>\n",
       "      <td>0</td>\n",
       "      <td>0</td>\n",
       "    </tr>\n",
       "    <tr>\n",
       "      <th>1759</th>\n",
       "      <td>40</td>\n",
       "      <td>200</td>\n",
       "      <td>5.0000</td>\n",
       "      <td>1</td>\n",
       "      <td>0</td>\n",
       "      <td>0</td>\n",
       "      <td>0</td>\n",
       "      <td>0</td>\n",
       "      <td>0</td>\n",
       "      <td>0</td>\n",
       "      <td>...</td>\n",
       "      <td>0</td>\n",
       "      <td>0</td>\n",
       "      <td>0</td>\n",
       "      <td>0</td>\n",
       "      <td>0</td>\n",
       "      <td>0</td>\n",
       "      <td>0</td>\n",
       "      <td>0</td>\n",
       "      <td>0</td>\n",
       "      <td>0</td>\n",
       "    </tr>\n",
       "    <tr>\n",
       "      <th>1760</th>\n",
       "      <td>96</td>\n",
       "      <td>218</td>\n",
       "      <td>2.2708</td>\n",
       "      <td>1</td>\n",
       "      <td>0</td>\n",
       "      <td>0</td>\n",
       "      <td>0</td>\n",
       "      <td>0</td>\n",
       "      <td>0</td>\n",
       "      <td>0</td>\n",
       "      <td>...</td>\n",
       "      <td>0</td>\n",
       "      <td>0</td>\n",
       "      <td>0</td>\n",
       "      <td>0</td>\n",
       "      <td>0</td>\n",
       "      <td>0</td>\n",
       "      <td>0</td>\n",
       "      <td>0</td>\n",
       "      <td>0</td>\n",
       "      <td>0</td>\n",
       "    </tr>\n",
       "    <tr>\n",
       "      <th>1761</th>\n",
       "      <td>16</td>\n",
       "      <td>81</td>\n",
       "      <td>5.0625</td>\n",
       "      <td>1</td>\n",
       "      <td>0</td>\n",
       "      <td>0</td>\n",
       "      <td>1</td>\n",
       "      <td>0</td>\n",
       "      <td>0</td>\n",
       "      <td>0</td>\n",
       "      <td>...</td>\n",
       "      <td>0</td>\n",
       "      <td>0</td>\n",
       "      <td>0</td>\n",
       "      <td>0</td>\n",
       "      <td>0</td>\n",
       "      <td>0</td>\n",
       "      <td>0</td>\n",
       "      <td>0</td>\n",
       "      <td>0</td>\n",
       "      <td>0</td>\n",
       "    </tr>\n",
       "    <tr>\n",
       "      <th>1762</th>\n",
       "      <td>36</td>\n",
       "      <td>41</td>\n",
       "      <td>1.1388</td>\n",
       "      <td>0</td>\n",
       "      <td>0</td>\n",
       "      <td>0</td>\n",
       "      <td>0</td>\n",
       "      <td>0</td>\n",
       "      <td>0</td>\n",
       "      <td>0</td>\n",
       "      <td>...</td>\n",
       "      <td>0</td>\n",
       "      <td>0</td>\n",
       "      <td>0</td>\n",
       "      <td>0</td>\n",
       "      <td>0</td>\n",
       "      <td>0</td>\n",
       "      <td>0</td>\n",
       "      <td>0</td>\n",
       "      <td>0</td>\n",
       "      <td>0</td>\n",
       "    </tr>\n",
       "  </tbody>\n",
       "</table>\n",
       "<p>1763 rows × 1559 columns</p>\n",
       "</div>"
      ],
      "text/plain": [
       "      feature_1  feature_2  feature_3  feature_4  feature_5  feature_6  \\\n",
       "0           100        160     1.6000          0          0          0   \n",
       "1            20         83     4.1500          1          0          0   \n",
       "2            99        150     1.5151          1          0          0   \n",
       "3            40         40     1.0000          0          0          0   \n",
       "4            12        234    19.5000          1          0          0   \n",
       "...         ...        ...        ...        ...        ...        ...   \n",
       "1758          1          1     2.0000          1          0          0   \n",
       "1759         40        200     5.0000          1          0          0   \n",
       "1760         96        218     2.2708          1          0          0   \n",
       "1761         16         81     5.0625          1          0          0   \n",
       "1762         36         41     1.1388          0          0          0   \n",
       "\n",
       "      feature_7  feature_8  feature_9  feature_10  ...  feature_1550  \\\n",
       "0             0          0          0           0  ...             0   \n",
       "1             0          0          0           1  ...             0   \n",
       "2             0          0          0           0  ...             0   \n",
       "3             0          0          0           0  ...             0   \n",
       "4             0          0          0           0  ...             0   \n",
       "...         ...        ...        ...         ...  ...           ...   \n",
       "1758          0          0          0           0  ...             0   \n",
       "1759          0          0          0           0  ...             0   \n",
       "1760          0          0          0           0  ...             0   \n",
       "1761          1          0          0           0  ...             0   \n",
       "1762          0          0          0           0  ...             0   \n",
       "\n",
       "      feature_1551  feature_1552  feature_1553  feature_1554  feature_1555  \\\n",
       "0                0             0             0             0             0   \n",
       "1                0             0             0             0             1   \n",
       "2                0             0             0             0             0   \n",
       "3                0             0             0             0             0   \n",
       "4                0             0             0             0             0   \n",
       "...            ...           ...           ...           ...           ...   \n",
       "1758             0             0             0             0             0   \n",
       "1759             0             0             0             0             0   \n",
       "1760             0             0             0             0             0   \n",
       "1761             0             0             0             0             0   \n",
       "1762             0             0             0             0             0   \n",
       "\n",
       "      feature_1556  feature_1557  feature_1558  Class  \n",
       "0                0             0             0      0  \n",
       "1                0             0             0      0  \n",
       "2                0             0             0      0  \n",
       "3                0             0             0      0  \n",
       "4                0             0             0      0  \n",
       "...            ...           ...           ...    ...  \n",
       "1758             0             0             0      0  \n",
       "1759             0             0             0      0  \n",
       "1760             0             0             0      0  \n",
       "1761             0             0             0      0  \n",
       "1762             0             0             0      0  \n",
       "\n",
       "[1763 rows x 1559 columns]"
      ]
     },
     "execution_count": 4,
     "metadata": {},
     "output_type": "execute_result"
    }
   ],
   "source": [
    "data = pd.read_csv('Train.csv')\n",
    "data"
   ]
  },
  {
   "cell_type": "markdown",
   "metadata": {},
   "source": [
    "# 데이터 전처리"
   ]
  },
  {
   "cell_type": "markdown",
   "metadata": {},
   "source": [
    "## X, Y 분리"
   ]
  },
  {
   "cell_type": "code",
   "execution_count": 5,
   "metadata": {},
   "outputs": [],
   "source": [
    "X = data.drop(['Class'], axis=1)\n",
    "Y = data['Class']"
   ]
  },
  {
   "cell_type": "code",
   "execution_count": 6,
   "metadata": {},
   "outputs": [
    {
     "data": {
      "text/plain": [
       "0    1620\n",
       "1     143\n",
       "Name: Class, dtype: int64"
      ]
     },
     "execution_count": 6,
     "metadata": {},
     "output_type": "execute_result"
    }
   ],
   "source": [
    "Y.value_counts()"
   ]
  },
  {
   "cell_type": "markdown",
   "metadata": {},
   "source": [
    "## Train set, Test set 분리"
   ]
  },
  {
   "cell_type": "code",
   "execution_count": 7,
   "metadata": {},
   "outputs": [],
   "source": [
    "X_train, X_test, Y_train, Y_test = train_test_split(X, Y, test_size=0.2, random_state=777, stratify=Y)\n",
    "X_train.reset_index(drop=True, inplace=True)\n",
    "X_test.reset_index(drop=True, inplace=True)\n",
    "Y_train.reset_index(drop=True, inplace=True)\n",
    "Y_test.reset_index(drop=True, inplace=True)"
   ]
  },
  {
   "cell_type": "code",
   "execution_count": 8,
   "metadata": {},
   "outputs": [
    {
     "name": "stdout",
     "output_type": "stream",
     "text": [
      "(1410, 1558) (353, 1558) (1410,) (353,)\n"
     ]
    }
   ],
   "source": [
    "# 분리 확인\n",
    "print(X_train.shape, X_test.shape, Y_train.shape, Y_test.shape)"
   ]
  },
  {
   "cell_type": "code",
   "execution_count": 9,
   "metadata": {},
   "outputs": [
    {
     "data": {
      "text/plain": [
       "0    1296\n",
       "1     114\n",
       "Name: Class, dtype: int64"
      ]
     },
     "execution_count": 9,
     "metadata": {},
     "output_type": "execute_result"
    }
   ],
   "source": [
    "# Y 밸런스 확인\n",
    "Y_train.value_counts()"
   ]
  },
  {
   "cell_type": "markdown",
   "metadata": {},
   "source": [
    "## 중복 레코드 제거"
   ]
  },
  {
   "cell_type": "code",
   "execution_count": 10,
   "metadata": {},
   "outputs": [],
   "source": [
    "temp = pd.concat([X_train, Y_train], axis=1)"
   ]
  },
  {
   "cell_type": "code",
   "execution_count": 11,
   "metadata": {},
   "outputs": [],
   "source": [
    "temp.drop_duplicates(keep='first', inplace=True)"
   ]
  },
  {
   "cell_type": "code",
   "execution_count": 12,
   "metadata": {},
   "outputs": [],
   "source": [
    "Y_train = temp['Class']\n",
    "X_train = temp.drop(['Class'], axis=1)"
   ]
  },
  {
   "cell_type": "code",
   "execution_count": 13,
   "metadata": {},
   "outputs": [],
   "source": [
    "X_train.reset_index(drop=True, inplace=True)\n",
    "Y_train.reset_index(drop=True, inplace=True)\n",
    "X_test.reset_index(drop=True, inplace=True)\n",
    "Y_test.reset_index(drop=True, inplace=True)"
   ]
  },
  {
   "cell_type": "code",
   "execution_count": 14,
   "metadata": {},
   "outputs": [
    {
     "name": "stdout",
     "output_type": "stream",
     "text": [
      "(1378, 1558) (1378,) (353, 1558) (353,)\n"
     ]
    }
   ],
   "source": [
    "print(X_train.shape, Y_train.shape, X_test.shape, Y_test.shape)"
   ]
  },
  {
   "cell_type": "markdown",
   "metadata": {},
   "source": [
    "## 단일 클래스를 가진 피쳐 제거"
   ]
  },
  {
   "cell_type": "code",
   "execution_count": 15,
   "metadata": {},
   "outputs": [],
   "source": [
    "for i in X_train.columns:\n",
    "    if len(X_train[i].unique()) == 1:\n",
    "        X_train.drop(i, axis=1, inplace=True)\n",
    "        X_test.drop(i, axis=1, inplace=True)"
   ]
  },
  {
   "cell_type": "code",
   "execution_count": 16,
   "metadata": {},
   "outputs": [
    {
     "name": "stdout",
     "output_type": "stream",
     "text": [
      "(1378, 1515) (353, 1515)\n"
     ]
    }
   ],
   "source": [
    "# 감소한 피쳐 수 확인\n",
    "print(X_train.shape, X_test.shape)"
   ]
  },
  {
   "cell_type": "markdown",
   "metadata": {},
   "source": [
    "## Outlier 처리 #1 iqr 기준 삭제"
   ]
  },
  {
   "cell_type": "code",
   "execution_count": 17,
   "metadata": {},
   "outputs": [],
   "source": [
    "toScale = [\"feature_1\", \"feature_2\" , \"feature_3\"]"
   ]
  },
  {
   "cell_type": "code",
   "execution_count": 18,
   "metadata": {},
   "outputs": [],
   "source": [
    "trimmer = OutlierTrimmer(capping_method='iqr', tail='both', fold=3, variables=toScale)\n",
    "X_train = trimmer.fit_transform(X_train)"
   ]
  },
  {
   "cell_type": "code",
   "execution_count": 19,
   "metadata": {},
   "outputs": [],
   "source": [
    "Y_train = Y_train[X_train.index]\n",
    "\n",
    "X_train.reset_index(drop=True, inplace=True)\n",
    "Y_train.reset_index(drop=True, inplace=True)\n",
    "X_test.reset_index(drop=True, inplace=True)\n",
    "Y_test.reset_index(drop=True, inplace=True)"
   ]
  },
  {
   "cell_type": "code",
   "execution_count": 20,
   "metadata": {},
   "outputs": [
    {
     "name": "stdout",
     "output_type": "stream",
     "text": [
      "(1360, 1515) (1360,) (353, 1515) (353,)\n"
     ]
    }
   ],
   "source": [
    "print(X_train.shape, Y_train.shape, X_test.shape, Y_test.shape)"
   ]
  },
  {
   "cell_type": "markdown",
   "metadata": {},
   "source": [
    "## Train set Feature Scaling"
   ]
  },
  {
   "cell_type": "markdown",
   "metadata": {},
   "source": [
    "## Feature간 상관계수 계산 후 제거"
   ]
  },
  {
   "cell_type": "code",
   "execution_count": 21,
   "metadata": {},
   "outputs": [],
   "source": [
    "corr = []\n",
    "\n",
    "for i in X_train.columns:\n",
    "    corr.append(abs(np.corrcoef(X_train[i], Y_train)[0][1]))\n",
    "corrX_Y = pd.DataFrame(columns=['features', 'corr'])\n",
    "corrX_Y['features'] = X_train.columns\n",
    "corrX_Y['corr'] = corr"
   ]
  },
  {
   "cell_type": "code",
   "execution_count": 22,
   "metadata": {},
   "outputs": [],
   "source": [
    "corr_mat = X_train.corr()"
   ]
  },
  {
   "cell_type": "code",
   "execution_count": 23,
   "metadata": {},
   "outputs": [],
   "source": [
    "corr_mat = abs(corr_mat)\n",
    "#corr_mat.to_csv('./corr_mat.csv', index=True)"
   ]
  },
  {
   "cell_type": "code",
   "execution_count": 24,
   "metadata": {},
   "outputs": [],
   "source": [
    "overCorr = pd.DataFrame(columns=['INDEX', 'COLUMN', 'CORR'])\n",
    "INDEX, COLUMN, CORR = [], [], []\n",
    "for i in range(len(corr_mat.index)):\n",
    "    for j in range(i+1, len(corr_mat.columns)):\n",
    "        if corr_mat.iloc[i, j] > 0.7:\n",
    "            #print(corr_mat.index[i], corr_mat.columns[j], corr_mat.iloc[i, j])\n",
    "            INDEX.append(corr_mat.index[i])\n",
    "            COLUMN.append(corr_mat.columns[j])\n",
    "            CORR.append(corr_mat.iloc[i, j])\n",
    "overCorr['INDEX'] = INDEX\n",
    "overCorr['COLUMN'] = COLUMN\n",
    "overCorr['CORR'] = CORR"
   ]
  },
  {
   "cell_type": "code",
   "execution_count": 25,
   "metadata": {},
   "outputs": [
    {
     "data": {
      "text/html": [
       "<div>\n",
       "<style scoped>\n",
       "    .dataframe tbody tr th:only-of-type {\n",
       "        vertical-align: middle;\n",
       "    }\n",
       "\n",
       "    .dataframe tbody tr th {\n",
       "        vertical-align: top;\n",
       "    }\n",
       "\n",
       "    .dataframe thead th {\n",
       "        text-align: right;\n",
       "    }\n",
       "</style>\n",
       "<table border=\"1\" class=\"dataframe\">\n",
       "  <thead>\n",
       "    <tr style=\"text-align: right;\">\n",
       "      <th></th>\n",
       "      <th>INDEX</th>\n",
       "      <th>COLUMN</th>\n",
       "      <th>CORR</th>\n",
       "    </tr>\n",
       "  </thead>\n",
       "  <tbody>\n",
       "    <tr>\n",
       "      <th>0</th>\n",
       "      <td>feature_6</td>\n",
       "      <td>feature_245</td>\n",
       "      <td>1.000000</td>\n",
       "    </tr>\n",
       "    <tr>\n",
       "      <th>1</th>\n",
       "      <td>feature_6</td>\n",
       "      <td>feature_487</td>\n",
       "      <td>1.000000</td>\n",
       "    </tr>\n",
       "    <tr>\n",
       "      <th>2</th>\n",
       "      <td>feature_6</td>\n",
       "      <td>feature_596</td>\n",
       "      <td>1.000000</td>\n",
       "    </tr>\n",
       "    <tr>\n",
       "      <th>3</th>\n",
       "      <td>feature_6</td>\n",
       "      <td>feature_958</td>\n",
       "      <td>0.774026</td>\n",
       "    </tr>\n",
       "    <tr>\n",
       "      <th>4</th>\n",
       "      <td>feature_6</td>\n",
       "      <td>feature_1197</td>\n",
       "      <td>0.774026</td>\n",
       "    </tr>\n",
       "    <tr>\n",
       "      <th>...</th>\n",
       "      <td>...</td>\n",
       "      <td>...</td>\n",
       "      <td>...</td>\n",
       "    </tr>\n",
       "    <tr>\n",
       "      <th>6091</th>\n",
       "      <td>feature_1541</td>\n",
       "      <td>feature_1550</td>\n",
       "      <td>0.815894</td>\n",
       "    </tr>\n",
       "    <tr>\n",
       "      <th>6092</th>\n",
       "      <td>feature_1542</td>\n",
       "      <td>feature_1555</td>\n",
       "      <td>0.972966</td>\n",
       "    </tr>\n",
       "    <tr>\n",
       "      <th>6093</th>\n",
       "      <td>feature_1542</td>\n",
       "      <td>feature_1556</td>\n",
       "      <td>1.000000</td>\n",
       "    </tr>\n",
       "    <tr>\n",
       "      <th>6094</th>\n",
       "      <td>feature_1545</td>\n",
       "      <td>feature_1557</td>\n",
       "      <td>0.796544</td>\n",
       "    </tr>\n",
       "    <tr>\n",
       "      <th>6095</th>\n",
       "      <td>feature_1555</td>\n",
       "      <td>feature_1556</td>\n",
       "      <td>0.972966</td>\n",
       "    </tr>\n",
       "  </tbody>\n",
       "</table>\n",
       "<p>6096 rows × 3 columns</p>\n",
       "</div>"
      ],
      "text/plain": [
       "             INDEX        COLUMN      CORR\n",
       "0        feature_6   feature_245  1.000000\n",
       "1        feature_6   feature_487  1.000000\n",
       "2        feature_6   feature_596  1.000000\n",
       "3        feature_6   feature_958  0.774026\n",
       "4        feature_6  feature_1197  0.774026\n",
       "...            ...           ...       ...\n",
       "6091  feature_1541  feature_1550  0.815894\n",
       "6092  feature_1542  feature_1555  0.972966\n",
       "6093  feature_1542  feature_1556  1.000000\n",
       "6094  feature_1545  feature_1557  0.796544\n",
       "6095  feature_1555  feature_1556  0.972966\n",
       "\n",
       "[6096 rows x 3 columns]"
      ]
     },
     "execution_count": 25,
     "metadata": {},
     "output_type": "execute_result"
    }
   ],
   "source": [
    "overCorr"
   ]
  },
  {
   "cell_type": "markdown",
   "metadata": {},
   "source": [
    "## Feature간 상관계수 계산 후 제거 (코드 일부)"
   ]
  },
  {
   "cell_type": "code",
   "execution_count": 26,
   "metadata": {},
   "outputs": [],
   "source": [
    "for i in overCorr.index:\n",
    "    try:\n",
    "        if corrX_Y[corrX_Y['features'] == overCorr.loc[i]['INDEX']]['corr'].values[0] <= \\\n",
    "        corrX_Y[corrX_Y['features'] == overCorr.loc[i]['COLUMN']]['corr'].values[0]:\n",
    "            X_train.drop([overCorr.loc[i]['INDEX']], axis=1, inplace=True)\n",
    "            X_test.drop([overCorr.loc[i]['INDEX']], axis=1, inplace=True)\n",
    "        else:\n",
    "            X_train.drop([overCorr.loc[i]['COLUMN']], axis=1, inplace=True)\n",
    "            X_test.drop([overCorr.loc[i]['COLUMN']], axis=1, inplace=True)\n",
    "    except:\n",
    "        continue"
   ]
  },
  {
   "cell_type": "code",
   "execution_count": 27,
   "metadata": {},
   "outputs": [
    {
     "data": {
      "text/plain": [
       "(1360, 412)"
      ]
     },
     "execution_count": 27,
     "metadata": {},
     "output_type": "execute_result"
    }
   ],
   "source": [
    "X_train.shape"
   ]
  },
  {
   "cell_type": "markdown",
   "metadata": {},
   "source": [
    "## Feature Scaling #4 MaxAbsScaler"
   ]
  },
  {
   "cell_type": "code",
   "execution_count": 28,
   "metadata": {
    "scrolled": true
   },
   "outputs": [],
   "source": [
    "maxabsScaler = MaxAbsScaler()\n",
    "for feature in toScale:\n",
    "    X_train.loc[:, feature] = maxabsScaler.fit_transform(X_train[feature].to_numpy().reshape(-1, 1))\n",
    "    X_test.loc[:, feature] = maxabsScaler.transform(X_test[feature].to_numpy().reshape(-1, 1))"
   ]
  },
  {
   "cell_type": "markdown",
   "metadata": {},
   "source": [
    "## 오버샘플링 #0 안함"
   ]
  },
  {
   "cell_type": "code",
   "execution_count": 29,
   "metadata": {},
   "outputs": [
    {
     "data": {
      "text/plain": [
       "0    1247\n",
       "1     113\n",
       "Name: Class, dtype: int64"
      ]
     },
     "execution_count": 29,
     "metadata": {},
     "output_type": "execute_result"
    }
   ],
   "source": [
    "# Y 밸런스 확인\n",
    "Y_train.value_counts()"
   ]
  },
  {
   "cell_type": "markdown",
   "metadata": {},
   "source": [
    "## 오버샘플링 진행 후 단일 클래스 가진 피쳐 제거"
   ]
  },
  {
   "cell_type": "code",
   "execution_count": 30,
   "metadata": {},
   "outputs": [],
   "source": [
    "for i in X_train.columns:\n",
    "    if len(X_train[i].unique()) == 1:\n",
    "        X_train.drop(i, axis=1, inplace=True)\n",
    "        X_test.drop(i, axis=1, inplace=True)"
   ]
  },
  {
   "cell_type": "code",
   "execution_count": 31,
   "metadata": {},
   "outputs": [
    {
     "name": "stdout",
     "output_type": "stream",
     "text": [
      "(1360, 408) (353, 408)\n"
     ]
    }
   ],
   "source": [
    "# 감소한 피쳐 수 확인\n",
    "print(X_train.shape, X_test.shape)"
   ]
  },
  {
   "cell_type": "markdown",
   "metadata": {},
   "source": [
    "# 모델 학습"
   ]
  },
  {
   "cell_type": "markdown",
   "metadata": {},
   "source": [
    "## Class_weight 적용"
   ]
  },
  {
   "cell_type": "code",
   "execution_count": 32,
   "metadata": {},
   "outputs": [
    {
     "name": "stdout",
     "output_type": "stream",
     "text": [
      "{0: 0.545308740978348, 1: 6.017699115044247}\n"
     ]
    }
   ],
   "source": [
    "weight_0 = (1 / Y_train.value_counts()[0]) * (Y_train.value_counts().sum() / 2.0)\n",
    "weight_1 = (1 / Y_train.value_counts()[1]) * (Y_train.value_counts().sum() / 2.0)\n",
    "class_weight = {0 : weight_0, 1 : weight_1}\n",
    "print(class_weight)"
   ]
  },
  {
   "cell_type": "markdown",
   "metadata": {},
   "source": [
    "## Model History callback class"
   ]
  },
  {
   "cell_type": "code",
   "execution_count": 33,
   "metadata": {},
   "outputs": [],
   "source": [
    "class ModelHistory(callbacks.Callback):\n",
    "    def __init__(self, logs={}):\n",
    "        self.history = {'loss' : [], 'binary_accuracy' : [], 'val_loss' : [], 'val_binary_accuracy' : []}\n",
    "\n",
    "    def on_epoch_end(self, batch, logs={}):\n",
    "        self.history['loss'].append(logs['loss'])\n",
    "        self.history['binary_accuracy'].append(logs['binary_accuracy'])\n",
    "        self.history['val_loss'].append(logs['val_loss'])\n",
    "        self.history['val_binary_accuracy'].append(logs['val_binary_accuracy'])"
   ]
  },
  {
   "cell_type": "markdown",
   "metadata": {},
   "source": [
    "# Keras Logistic regression"
   ]
  },
  {
   "cell_type": "code",
   "execution_count": 34,
   "metadata": {},
   "outputs": [
    {
     "name": "stderr",
     "output_type": "stream",
     "text": [
      "100%|####################################################################################| 5/5 [00:04<00:00,  1.02it/s]\n",
      "100%|####################################################################################| 5/5 [00:04<00:00,  1.11it/s]\n",
      "100%|####################################################################################| 5/5 [00:04<00:00,  1.18it/s]\n",
      "100%|####################################################################################| 5/5 [00:04<00:00,  1.08it/s]\n",
      "100%|####################################################################################| 5/5 [00:04<00:00,  1.08it/s]\n",
      "100%|####################################################################################| 5/5 [00:04<00:00,  1.10it/s]\n",
      "100%|####################################################################################| 5/5 [00:04<00:00,  1.10it/s]\n",
      "100%|####################################################################################| 5/5 [00:04<00:00,  1.12it/s]\n",
      "100%|####################################################################################| 5/5 [00:04<00:00,  1.18it/s]\n",
      "100%|####################################################################################| 5/5 [00:04<00:00,  1.16it/s]"
     ]
    },
    {
     "name": "stdout",
     "output_type": "stream",
     "text": [
      "0.93202427\n"
     ]
    },
    {
     "name": "stderr",
     "output_type": "stream",
     "text": [
      "\n"
     ]
    }
   ],
   "source": [
    "AUCScores_log = np.zeros(10)\n",
    "model_log = [0 for _ in range(10)]\n",
    "for i in range(10, 101, 10):\n",
    "    tf.random.set_seed(i)\n",
    "    model_log[int(i/10 - 1)] = models.Sequential(name=f\"Keras_log_Random_state_{i}\")\n",
    "    model_log[int(i/10 - 1)].add(layers.Dense(1, activation='sigmoid', input_shape=(X_train.shape[1],), \\\n",
    "                              kernel_regularizer=regularizers.l2(0.0001)))\n",
    "    model_log[int(i/10 - 1)].compile(optimizer='adam', loss='binary_crossentropy', metrics=['binary_accuracy'])\n",
    "\n",
    "    kfold = StratifiedKFold(n_splits=5)\n",
    "    modelHistory = ModelHistory()\n",
    "    cb = [callbacks.EarlyStopping(monitor='val_loss', patience=10, min_delta=0.01), \\\n",
    "         modelHistory]\n",
    "    with tqdm(total=5, ascii=True) as pbar:\n",
    "        for train_index, test_index in kfold.split(X_train, Y_train):\n",
    "            X_train_log, X_val_log = X_train.loc[train_index], X_train.loc[test_index]\n",
    "            Y_train_log, Y_val_log = Y_train.loc[train_index], Y_train.loc[test_index]\n",
    "            model_log[int(i/10 - 1)].fit(X_train_log, Y_train_log, validation_data=(X_val_log, Y_val_log), \\\n",
    "                          epochs=50, use_multiprocessing=True, workers=-1, verbose=0, \\\n",
    "                          callbacks=cb, class_weight=class_weight)\n",
    "            pbar.update(1)\n",
    "\n",
    "    model_log_pred = model_log[int(i/10 - 1)].predict(X_test)\n",
    "    AUCScores_log[int(i/10 - 1)] = roc_auc_score(Y_test, model_log_pred)\n",
    "\n",
    "print(AUCScores_log.mean().round(8))"
   ]
  },
  {
   "cell_type": "code",
   "execution_count": 35,
   "metadata": {},
   "outputs": [
    {
     "data": {
      "image/png": "[encoded data removed]",
      "text/plain": [
       "<Figure size 432x288 with 2 Axes>"
      ]
     },
     "metadata": {
      "needs_background": "light"
     },
     "output_type": "display_data"
    }
   ],
   "source": [
    "fig, loss_ax = plt.subplots()\n",
    "acc_ax = loss_ax.twinx()\n",
    "\n",
    "loss_ax.plot(modelHistory.history['loss'], 'y', label='train loss')\n",
    "loss_ax.plot(modelHistory.history['val_loss'], 'g', label='val loss')\n",
    "loss_ax.set_xlabel('epoch')\n",
    "loss_ax.set_ylabel('loss')\n",
    "loss_ax.legend(loc='upper left')\n",
    "\n",
    "acc_ax.plot(modelHistory.history['binary_accuracy'], 'b', label='train acc')\n",
    "acc_ax.plot(modelHistory.history['val_binary_accuracy'], 'r', label='val acc')\n",
    "acc_ax.set_ylabel('accuracy')\n",
    "acc_ax.legend(loc='lower left')\n",
    "\n",
    "plt.show()"
   ]
  },
  {
   "cell_type": "code",
   "execution_count": null,
   "metadata": {},
   "outputs": [],
   "source": []
  }
 ],
 "metadata": {
  "kernelspec": {
   "display_name": "Python 3",
   "language": "python",
   "name": "python3"
  },
  "language_info": {
   "codemirror_mode": {
    "name": "ipython",
    "version": 3
   },
   "file_extension": ".py",
   "mimetype": "text/x-python",
   "name": "python",
   "nbconvert_exporter": "python",
   "pygments_lexer": "ipython3",
   "version": "3.8.5"
  }
 },
 "nbformat": 4,
 "nbformat_minor": 4
}
